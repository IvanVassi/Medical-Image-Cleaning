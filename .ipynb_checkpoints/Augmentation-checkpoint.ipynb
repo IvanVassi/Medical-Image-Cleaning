{
 "cells": [
  {
   "cell_type": "code",
   "execution_count": 1,
   "metadata": {},
   "outputs": [],
   "source": [
    "import numpy as np\n",
    "import imutils\n",
    "import cv2"
   ]
  },
  {
   "cell_type": "code",
   "execution_count": 2,
   "metadata": {},
   "outputs": [],
   "source": [
    "# load the image from disk\n",
    "image = cv2.imread('1.jpeg')\n",
    "\n",
    "# loop over the rotation angles again, this time ensuring\n",
    "# no part of the image is cut off\n",
    "for angle in np.arange(0, 360, 15):\n",
    "    rotated = imutils.rotate_bound(image, angle)\n",
    "    cv2.imwrite('hello.jpeg', rotated)\n",
    "    cv2.imshow(\"Rotated (Correct)\", rotated)\n",
    "    cv2.waitKey(0)\n",
    "\n",
    "cv2.destroyAllWindows()"
   ]
  },
  {
   "cell_type": "code",
   "execution_count": null,
   "metadata": {},
   "outputs": [],
   "source": []
  }
 ],
 "metadata": {
  "kernelspec": {
   "display_name": "Python 3",
   "language": "python",
   "name": "python3"
  },
  "language_info": {
   "codemirror_mode": {
    "name": "ipython",
    "version": 3
   },
   "file_extension": ".py",
   "mimetype": "text/x-python",
   "name": "python",
   "nbconvert_exporter": "python",
   "pygments_lexer": "ipython3",
   "version": "3.7.3"
  }
 },
 "nbformat": 4,
 "nbformat_minor": 2
}
